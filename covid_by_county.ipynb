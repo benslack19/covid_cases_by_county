{
 "cells": [
  {
   "cell_type": "markdown",
   "metadata": {},
   "source": [
    "# COVID by county\n",
    "\n",
    "Similar idea: https://sgallup.shinyapps.io/covidshiny/\n",
    "Data from: https://github.com/nytimes/covid-19-data"
   ]
  },
  {
   "cell_type": "code",
   "execution_count": 19,
   "metadata": {
    "ExecuteTime": {
     "end_time": "2020-04-21T16:03:53.163116Z",
     "start_time": "2020-04-21T16:03:53.069526Z"
    }
   },
   "outputs": [
    {
     "name": "stdout",
     "output_type": "stream",
     "text": [
      "The nb_black extension is already loaded. To reload it, use:\n",
      "  %reload_ext nb_black\n"
     ]
    },
    {
     "data": {
      "application/javascript": [
       "\n",
       "            setTimeout(function() {\n",
       "                var nbb_cell_id = 19;\n",
       "                var nbb_unformatted_code = \"import os\\nimport pandas as pd\\nimport numpy as np\\nimport matplotlib.pyplot as plt\\nimport matplotlib\\nimport seaborn as sns\\n\\n%load_ext nb_black\";\n",
       "                var nbb_formatted_code = \"import os\\nimport pandas as pd\\nimport numpy as np\\nimport matplotlib.pyplot as plt\\nimport matplotlib\\nimport seaborn as sns\\n\\n%load_ext nb_black\";\n",
       "                var nbb_cells = Jupyter.notebook.get_cells();\n",
       "                for (var i = 0; i < nbb_cells.length; ++i) {\n",
       "                    if (nbb_cells[i].input_prompt_number == nbb_cell_id) {\n",
       "                        if (nbb_cells[i].get_text() == nbb_unformatted_code) {\n",
       "                             nbb_cells[i].set_text(nbb_formatted_code);\n",
       "                        }\n",
       "                        break;\n",
       "                    }\n",
       "                }\n",
       "            }, 500);\n",
       "            "
      ],
      "text/plain": [
       "<IPython.core.display.Javascript object>"
      ]
     },
     "metadata": {},
     "output_type": "display_data"
    }
   ],
   "source": [
    "import os\n",
    "import pandas as pd\n",
    "import numpy as np\n",
    "import matplotlib.pyplot as plt\n",
    "import matplotlib\n",
    "import seaborn as sns\n",
    "\n",
    "%load_ext nb_black"
   ]
  },
  {
   "cell_type": "markdown",
   "metadata": {},
   "source": [
    "Next iteration:\n",
    "- get county size and get per capita"
   ]
  },
  {
   "cell_type": "markdown",
   "metadata": {},
   "source": [
    "# Import data from NYTimes\n",
    "\n"
   ]
  },
  {
   "cell_type": "code",
   "execution_count": 20,
   "metadata": {
    "ExecuteTime": {
     "end_time": "2020-04-21T16:03:53.181119Z",
     "start_time": "2020-04-21T16:03:53.168100Z"
    }
   },
   "outputs": [
    {
     "data": {
      "application/javascript": [
       "\n",
       "            setTimeout(function() {\n",
       "                var nbb_cell_id = 20;\n",
       "                var nbb_unformatted_code = \"os.chdir(\\n    \\\"/Users/lacar/Documents/Data_science/Jupyter_notebooks/covid_2020/covid-19-data/\\\"\\n)\";\n",
       "                var nbb_formatted_code = \"os.chdir(\\n    \\\"/Users/lacar/Documents/Data_science/Jupyter_notebooks/covid_2020/covid-19-data/\\\"\\n)\";\n",
       "                var nbb_cells = Jupyter.notebook.get_cells();\n",
       "                for (var i = 0; i < nbb_cells.length; ++i) {\n",
       "                    if (nbb_cells[i].input_prompt_number == nbb_cell_id) {\n",
       "                        if (nbb_cells[i].get_text() == nbb_unformatted_code) {\n",
       "                             nbb_cells[i].set_text(nbb_formatted_code);\n",
       "                        }\n",
       "                        break;\n",
       "                    }\n",
       "                }\n",
       "            }, 500);\n",
       "            "
      ],
      "text/plain": [
       "<IPython.core.display.Javascript object>"
      ]
     },
     "metadata": {},
     "output_type": "display_data"
    }
   ],
   "source": [
    "os.chdir(\n",
    "    \"/Users/lacar/Documents/Data_science/Jupyter_notebooks/covid_2020/covid-19-data/\"\n",
    ")"
   ]
  },
  {
   "cell_type": "code",
   "execution_count": null,
   "metadata": {
    "ExecuteTime": {
     "start_time": "2020-04-21T16:03:53.038Z"
    }
   },
   "outputs": [],
   "source": [
    "!git pull"
   ]
  },
  {
   "cell_type": "code",
   "execution_count": null,
   "metadata": {
    "ExecuteTime": {
     "start_time": "2020-04-21T16:03:53.044Z"
    }
   },
   "outputs": [],
   "source": [
    "os.chdir(\"/Users/lacar/Documents/Data_science/Jupyter_notebooks/covid_2020/\")"
   ]
  },
  {
   "cell_type": "code",
   "execution_count": null,
   "metadata": {
    "ExecuteTime": {
     "start_time": "2020-04-21T16:03:53.051Z"
    }
   },
   "outputs": [],
   "source": [
    "df_covid = pd.read_csv(\"covid-19-data/us-counties.csv\")\n",
    "df_covid[\"county_state\"] = df_covid[\"county\"] + \" County, \" + df_covid[\"state\"]"
   ]
  },
  {
   "cell_type": "code",
   "execution_count": null,
   "metadata": {
    "ExecuteTime": {
     "start_time": "2020-04-21T16:03:53.063Z"
    }
   },
   "outputs": [],
   "source": [
    "df_covid.head()"
   ]
  },
  {
   "cell_type": "markdown",
   "metadata": {
    "ExecuteTime": {
     "end_time": "2020-03-31T05:05:21.508840Z",
     "start_time": "2020-03-31T05:05:21.503695Z"
    }
   },
   "source": [
    "# Reorganize tables"
   ]
  },
  {
   "cell_type": "code",
   "execution_count": null,
   "metadata": {
    "ExecuteTime": {
     "start_time": "2020-04-21T16:03:53.071Z"
    },
    "code_folding": []
   },
   "outputs": [],
   "source": [
    "def filter_data(states_list, county_list):\n",
    "    df_covid_states = df_covid[df_covid[\"state\"].isin(states_list)].copy()\n",
    "    df_covid_states_county = df_covid_states[\n",
    "        df_covid_states[\"county_state\"].isin(county_list)\n",
    "    ].copy()\n",
    "    df_covid_states_county.sort_values(by=[\"county_state\", \"date\"], inplace=True)\n",
    "    df_covid_states_county.reset_index(inplace=True, drop=True)\n",
    "\n",
    "    # Add new cases, deaths - do manually\n",
    "    for i in df_covid_states_county.index:\n",
    "        try:\n",
    "            county_row = df_covid_states_county.loc[i, \"county_state\"]\n",
    "            county_rowahead = df_covid_states_county.loc[i + 1, \"county_state\"]\n",
    "            cases_row = df_covid_states_county.loc[i, \"cases\"]\n",
    "            cases_rowahead = df_covid_states_county.loc[i + 1, \"cases\"]\n",
    "            deaths_row = df_covid_states_county.loc[i, \"deaths\"]\n",
    "            deaths_rowahead = df_covid_states_county.loc[i + 1, \"deaths\"]\n",
    "\n",
    "            if county_rowahead == county_row:\n",
    "                df_covid_states_county.loc[i + 1, \"new_cases\"] = (\n",
    "                    cases_rowahead - cases_row\n",
    "                )\n",
    "                df_covid_states_county.loc[i + 1, \"new_deaths\"] = (\n",
    "                    deaths_rowahead - deaths_row\n",
    "                )\n",
    "        except:\n",
    "            continue\n",
    "\n",
    "    return df_covid_states_county"
   ]
  },
  {
   "cell_type": "code",
   "execution_count": null,
   "metadata": {
    "ExecuteTime": {
     "start_time": "2020-04-21T16:03:53.079Z"
    }
   },
   "outputs": [],
   "source": [
    "def reorg_table_by_category(df_county_state_lim, category):\n",
    "    # Re-org table\n",
    "    df_covid_states_county_by_date_county_category = (\n",
    "        df_county_state_lim.groupby([\"date\", \"county_state\"]).sum()[category].unstack()\n",
    "    )\n",
    "    df_covid_states_county_by_date_county_category.dropna(how=\"all\", inplace=True)\n",
    "    df_covid_states_county_by_date_county_category.reset_index(inplace=True)\n",
    "    return df_covid_states_county_by_date_county_category"
   ]
  },
  {
   "cell_type": "markdown",
   "metadata": {},
   "source": [
    "# Visualize"
   ]
  },
  {
   "cell_type": "code",
   "execution_count": null,
   "metadata": {
    "ExecuteTime": {
     "start_time": "2020-04-21T16:03:53.087Z"
    }
   },
   "outputs": [],
   "source": [
    "def plot_by_category(\n",
    "    df_county_state_lim, df_category, category, title, starting_ind, ax\n",
    "):\n",
    "\n",
    "    for county in df_county_state_lim[\"county_state\"].unique().tolist():\n",
    "        ax.plot(df_category[\"date\"], df_category[county], label=county)\n",
    "\n",
    "    labels = df_category[\"date\"]\n",
    "    ax.set_xticklabels(labels, rotation=90, fontsize=16)\n",
    "    ax.set_xlim(starting_ind, len(df_category))\n",
    "    ax.legend(fontsize=12)\n",
    "    ax.set_ylabel(category, fontsize=18)\n",
    "    ax.set_title(title, fontsize=18)\n",
    "    # plt.tight_layout()\n",
    "\n",
    "    return county, df_category[\"date\"], df_category[county]"
   ]
  },
  {
   "cell_type": "code",
   "execution_count": null,
   "metadata": {
    "ExecuteTime": {
     "start_time": "2020-04-21T16:03:53.096Z"
    },
    "code_folding": []
   },
   "outputs": [],
   "source": [
    "def plot_all_categories_for_county(states_list, county_list, starting_date):    \n",
    "    # Get filtered data\n",
    "    filt_data = filter_data(states, counties)\n",
    "        \n",
    "    # Re-org table\n",
    "    df_covid_sc_bydate_county_cases = reorg_table_by_category(\n",
    "        filt_data, \"cases\"\n",
    "    )\n",
    "    df_covid_sc_bydate_county_newcases = reorg_table_by_category(\n",
    "        filt_data, \"new_cases\"\n",
    "    )\n",
    "    df_covid_sc_bydate_county_deaths = reorg_table_by_category(\n",
    "        filt_data, \"deaths\"\n",
    "    )\n",
    "    df_covid_sc_bydate_county_newdeaths = reorg_table_by_category(\n",
    "        filt_data, \"new_deaths\"\n",
    "    )\n",
    "\n",
    "    df_category_list = [df_covid_sc_bydate_county_cases, df_covid_sc_bydate_county_newcases, df_covid_sc_bydate_county_deaths, df_covid_sc_bydate_county_newdeaths]\n",
    "    category_list = ['cases', 'new_cases', 'deaths', 'new_deaths']\n",
    "    category_title_list = ['cases (cumulative)', 'new_cases', 'deaths (cumulative)', 'new_deaths']\n",
    "    \n",
    "    index_starting_date = df_covid_sc_bydate_county_cases[df_covid_sc_bydate_county_cases[\"date\"] == starting_date].index.tolist()[0]\n",
    "    \n",
    "    fig, ax = plt.subplots(4, 1, figsize=(12, 16))\n",
    "      \n",
    "    for i, category_df in enumerate(df_category_list):\n",
    "        plot_by_category(\n",
    "            filt_data,\n",
    "            category_df,\n",
    "            category_list[i],\n",
    "            category_title_list[i],\n",
    "            index_starting_date,\n",
    "            ax[i],\n",
    "        )\n",
    "    plt.tight_layout()\n"
   ]
  },
  {
   "cell_type": "markdown",
   "metadata": {},
   "source": [
    "# Inputs with different locations"
   ]
  },
  {
   "cell_type": "markdown",
   "metadata": {},
   "source": [
    "## Local"
   ]
  },
  {
   "cell_type": "code",
   "execution_count": null,
   "metadata": {
    "ExecuteTime": {
     "start_time": "2020-04-21T16:03:53.108Z"
    },
    "scrolled": false
   },
   "outputs": [],
   "source": [
    "states = [\"California\"]\n",
    "counties = [\n",
    "    \"San Francisco County, California\",\n",
    "    \"San Mateo County, California\",\n",
    "    \"Santa Clara County, California\",\n",
    "    \"Alameda County, California\",\n",
    "    \"Marin County, California\",\n",
    "]\n",
    "plot_all_categories_for_county(states, counties, \"2020-03-01\")"
   ]
  },
  {
   "cell_type": "markdown",
   "metadata": {},
   "source": [
    "## Some CA counties"
   ]
  },
  {
   "cell_type": "code",
   "execution_count": null,
   "metadata": {
    "ExecuteTime": {
     "start_time": "2020-04-21T16:03:53.115Z"
    },
    "scrolled": false
   },
   "outputs": [],
   "source": [
    "states = [\"California\"]\n",
    "counties = [\n",
    "    \"San Bernardino County, California\",\n",
    "    \"San Diego County, California\",\n",
    "    \"San Mateo County, California\",\n",
    "    \"Los Angeles County, California\",\n",
    "]\n",
    "plot_all_categories_for_county(states, counties, \"2020-03-01\")"
   ]
  },
  {
   "cell_type": "markdown",
   "metadata": {},
   "source": [
    "## CA and some East Coast"
   ]
  },
  {
   "cell_type": "code",
   "execution_count": null,
   "metadata": {
    "ExecuteTime": {
     "start_time": "2020-04-21T16:03:53.123Z"
    }
   },
   "outputs": [],
   "source": [
    "states = [\"Pennsylvania\", \"Connecticut\", \"California\", \"Massachusetts\"]\n",
    "counties = [\n",
    "    \"Suffolk County, Massachusetts\",\n",
    "    \"New Haven County, Connecticut\",\n",
    "    \"Lehigh County, Pennsylvania\",\n",
    "    \"San Francisco County, California\",\n",
    "    \"San Mateo County, California\",\n",
    "]\n",
    "plot_all_categories_for_county(states, counties, \"2020-03-01\")"
   ]
  },
  {
   "cell_type": "markdown",
   "metadata": {},
   "source": [
    "## New York only"
   ]
  },
  {
   "cell_type": "code",
   "execution_count": null,
   "metadata": {
    "ExecuteTime": {
     "start_time": "2020-04-21T16:03:53.130Z"
    }
   },
   "outputs": [],
   "source": [
    "states = [\"New York\"]\n",
    "counties = [\n",
    "    \"New York City County, New York\",\n",
    "]\n",
    "plot_all_categories_for_county(states, counties, \"2020-03-01\")"
   ]
  },
  {
   "cell_type": "markdown",
   "metadata": {
    "ExecuteTime": {
     "end_time": "2020-03-31T16:10:36.433683Z",
     "start_time": "2020-03-31T16:10:36.428418Z"
    }
   },
   "source": [
    "## CA, CO, PA, Southeast"
   ]
  },
  {
   "cell_type": "code",
   "execution_count": null,
   "metadata": {
    "ExecuteTime": {
     "start_time": "2020-04-21T16:03:53.137Z"
    }
   },
   "outputs": [],
   "source": [
    "states = [\"Colorado\", \"California\", \"Pennsylvania\", \"Georgia\", \"Florida\"]\n",
    "counties = [\n",
    "    \"Arapahoe County, Colorado\",\n",
    "    \"Chatham County, Georgia\",\n",
    "    \"Montgomery County, Pennsylvania\",\n",
    "    \"Leon Countydd, Florida\",\n",
    "    \"Bay County, Florida\",\n",
    "    \"San Mateo County, California\",\n",
    "]\n",
    "plot_all_categories_for_county(states, counties, \"2020-03-10\")"
   ]
  },
  {
   "cell_type": "markdown",
   "metadata": {},
   "source": [
    "## CA, WA, Las Vegas"
   ]
  },
  {
   "cell_type": "code",
   "execution_count": null,
   "metadata": {
    "ExecuteTime": {
     "start_time": "2020-04-21T16:03:53.145Z"
    },
    "scrolled": false
   },
   "outputs": [],
   "source": [
    "states = [\"Nevada\", \"California\", \"Washington\"]\n",
    "counties = [\n",
    "    \"Clark County, Nevada\",\n",
    "    \"King County, Washington\",\n",
    "    \"Los Angeles County, California\",\n",
    "    \"San Francisco County, California\",\n",
    "    \"San Mateo County, California\",\n",
    "    \"Alameda County, California\",\n",
    "    \"San Diego County, California\",\n",
    "]\n",
    "plot_all_categories_for_county(states, counties, \"2020-03-10\")"
   ]
  },
  {
   "cell_type": "code",
   "execution_count": null,
   "metadata": {
    "ExecuteTime": {
     "start_time": "2020-04-21T16:03:53.153Z"
    }
   },
   "outputs": [],
   "source": [
    "states = [\"California\"]\n",
    "counties = [\n",
    "    \"Imperial County, California\",\n",
    "    \"Los Angeles County, California\",\n",
    "    \"San Francisco County, California\",\n",
    "    \"San Mateo County, California\",\n",
    "    \"Alameda County, California\",\n",
    "    \"San Diego County, California\",\n",
    "]\n",
    "plot_all_categories_for_county(states, counties, \"2020-03-10\")"
   ]
  },
  {
   "cell_type": "code",
   "execution_count": null,
   "metadata": {},
   "outputs": [],
   "source": []
  },
  {
   "cell_type": "code",
   "execution_count": null,
   "metadata": {
    "ExecuteTime": {
     "start_time": "2020-04-21T16:03:53.164Z"
    }
   },
   "outputs": [],
   "source": [
    "!git commit -a -m \"update\"\n",
    "!git push"
   ]
  },
  {
   "cell_type": "code",
   "execution_count": null,
   "metadata": {},
   "outputs": [],
   "source": []
  }
 ],
 "metadata": {
  "kernelspec": {
   "display_name": "Python 3",
   "language": "python",
   "name": "python3"
  },
  "language_info": {
   "codemirror_mode": {
    "name": "ipython",
    "version": 3
   },
   "file_extension": ".py",
   "mimetype": "text/x-python",
   "name": "python",
   "nbconvert_exporter": "python",
   "pygments_lexer": "ipython3",
   "version": "3.6.9"
  },
  "toc": {
   "base_numbering": 1,
   "nav_menu": {},
   "number_sections": true,
   "sideBar": true,
   "skip_h1_title": false,
   "title_cell": "Table of Contents",
   "title_sidebar": "Contents",
   "toc_cell": false,
   "toc_position": {
    "height": "calc(100% - 180px)",
    "left": "10px",
    "top": "150px",
    "width": "205.8px"
   },
   "toc_section_display": true,
   "toc_window_display": true
  },
  "varInspector": {
   "cols": {
    "lenName": 16,
    "lenType": 16,
    "lenVar": 40
   },
   "kernels_config": {
    "python": {
     "delete_cmd_postfix": "",
     "delete_cmd_prefix": "del ",
     "library": "var_list.py",
     "varRefreshCmd": "print(var_dic_list())"
    },
    "r": {
     "delete_cmd_postfix": ") ",
     "delete_cmd_prefix": "rm(",
     "library": "var_list.r",
     "varRefreshCmd": "cat(var_dic_list()) "
    }
   },
   "types_to_exclude": [
    "module",
    "function",
    "builtin_function_or_method",
    "instance",
    "_Feature"
   ],
   "window_display": false
  }
 },
 "nbformat": 4,
 "nbformat_minor": 2
}
