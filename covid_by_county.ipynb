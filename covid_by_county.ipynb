{
 "cells": [
  {
   "cell_type": "markdown",
   "metadata": {},
   "source": [
    "# COVID by county\n",
    "\n",
    "This code plots simple time series data of cases and deaths made available from the  NYTimes (see [here](https://github.com/nytimes/covid-19-data)).\n",
    "\n",
    "New cases and new deaths for each day are determined from subtracting the cases of a day from the previous day. These are raw numbers and not per capita which is important to put in context. In addition, the numbers are likely underestimated since widespread testing is not yet available.\n",
    "\n",
    "I created this as a simple way to update friends and family early in the early stages of the pandemic. However, I encourage you to go to [covid19-projections.com](https://covid19-projections.com) for one of the most reliable models to forecast coronavirus cases."
   ]
  },
  {
   "cell_type": "code",
   "execution_count": 1,
   "metadata": {
    "ExecuteTime": {
     "end_time": "2020-10-09T21:07:05.831350Z",
     "start_time": "2020-10-09T21:07:01.221264Z"
    }
   },
   "outputs": [
    {
     "data": {
      "application/javascript": [
       "\n",
       "            setTimeout(function() {\n",
       "                var nbb_cell_id = 1;\n",
       "                var nbb_unformatted_code = \"import os\\nimport pandas as pd\\nimport numpy as np\\nimport matplotlib.pyplot as plt\\nimport matplotlib\\nimport seaborn as sns\\n\\n%load_ext nb_black\";\n",
       "                var nbb_formatted_code = \"import os\\nimport pandas as pd\\nimport numpy as np\\nimport matplotlib.pyplot as plt\\nimport matplotlib\\nimport seaborn as sns\\n\\n%load_ext nb_black\";\n",
       "                var nbb_cells = Jupyter.notebook.get_cells();\n",
       "                for (var i = 0; i < nbb_cells.length; ++i) {\n",
       "                    if (nbb_cells[i].input_prompt_number == nbb_cell_id) {\n",
       "                        if (nbb_cells[i].get_text() == nbb_unformatted_code) {\n",
       "                             nbb_cells[i].set_text(nbb_formatted_code);\n",
       "                        }\n",
       "                        break;\n",
       "                    }\n",
       "                }\n",
       "            }, 500);\n",
       "            "
      ],
      "text/plain": [
       "<IPython.core.display.Javascript object>"
      ]
     },
     "metadata": {},
     "output_type": "display_data"
    }
   ],
   "source": [
    "import os\n",
    "import pandas as pd\n",
    "import numpy as np\n",
    "import matplotlib.pyplot as plt\n",
    "import matplotlib\n",
    "import seaborn as sns\n",
    "\n",
    "%load_ext nb_black"
   ]
  },
  {
   "cell_type": "markdown",
   "metadata": {},
   "source": [
    "# Import data from NYTimes\n",
    "\n"
   ]
  },
  {
   "cell_type": "code",
   "execution_count": 2,
   "metadata": {
    "ExecuteTime": {
     "end_time": "2020-10-09T21:07:05.846225Z",
     "start_time": "2020-10-09T21:07:05.834323Z"
    }
   },
   "outputs": [
    {
     "data": {
      "application/javascript": [
       "\n",
       "            setTimeout(function() {\n",
       "                var nbb_cell_id = 2;\n",
       "                var nbb_unformatted_code = \"os.chdir(\\n    \\\"/Users/lacar/Documents/Data_science/Jupyter_notebooks/covid_2020/covid-19-data/\\\"\\n)\";\n",
       "                var nbb_formatted_code = \"os.chdir(\\n    \\\"/Users/lacar/Documents/Data_science/Jupyter_notebooks/covid_2020/covid-19-data/\\\"\\n)\";\n",
       "                var nbb_cells = Jupyter.notebook.get_cells();\n",
       "                for (var i = 0; i < nbb_cells.length; ++i) {\n",
       "                    if (nbb_cells[i].input_prompt_number == nbb_cell_id) {\n",
       "                        if (nbb_cells[i].get_text() == nbb_unformatted_code) {\n",
       "                             nbb_cells[i].set_text(nbb_formatted_code);\n",
       "                        }\n",
       "                        break;\n",
       "                    }\n",
       "                }\n",
       "            }, 500);\n",
       "            "
      ],
      "text/plain": [
       "<IPython.core.display.Javascript object>"
      ]
     },
     "metadata": {},
     "output_type": "display_data"
    }
   ],
   "source": [
    "os.chdir(\n",
    "    \"/Users/lacar/Documents/Data_science/Jupyter_notebooks/covid_2020/covid-19-data/\"\n",
    ")"
   ]
  },
  {
   "cell_type": "code",
   "execution_count": 3,
   "metadata": {
    "ExecuteTime": {
     "end_time": "2020-10-09T21:09:41.980622Z",
     "start_time": "2020-10-09T21:07:05.850126Z"
    }
   },
   "outputs": [
    {
     "name": "stdout",
     "output_type": "stream",
     "text": [
      "remote: Enumerating objects: 280, done.\u001b[K\n",
      "remote: Counting objects: 100% (280/280), done.\u001b[K\n",
      "remote: Total 2795 (delta 280), reused 280 (delta 280), pack-reused 2515\u001b[K\n",
      "Receiving objects: 100% (2795/2795), 127.18 MiB | 899.00 KiB/s, done.\n",
      "Resolving deltas: 100% (1837/1837), completed with 18 local objects.\n",
      "From https://github.com/nytimes/covid-19-data\n",
      "   bde898a..afd338b  master     -> origin/master\n",
      "Updating bde898a..afd338b\n",
      "Fast-forward\n",
      " NEW-YORK-DEATHS-METHODOLOGY.md  |     39 \u001b[32m+\u001b[m\n",
      " README.md                       |    143 \u001b[32m+\u001b[m\u001b[31m-\u001b[m\n",
      " colleges/README.md              |     69 \u001b[32m+\u001b[m\n",
      " colleges/colleges.csv           |   1713 \u001b[32m+\u001b[m\n",
      " live/us-counties.csv            |   6412 \u001b[32m+\u001b[m\u001b[31m-\u001b[m\n",
      " live/us-states.csv              |    110 \u001b[32m+\u001b[m\u001b[31m-\u001b[m\n",
      " live/us.csv                     |      2 \u001b[32m+\u001b[m\u001b[31m-\u001b[m\n",
      " mask-use/README.md              |     57 \u001b[32m+\u001b[m\n",
      " mask-use/mask-use-by-county.csv |   3143 \u001b[32m+\u001b[m\n",
      " us-counties.csv                 | 299472 \u001b[32m++++++++++++++++++++++++++++++++++++\u001b[m\u001b[31m-\u001b[m\n",
      " us-states.csv                   |   5405 \u001b[32m+\u001b[m\u001b[31m-\u001b[m\n",
      " us.csv                          |    265 \u001b[32m+\u001b[m\u001b[31m-\u001b[m\n",
      " 12 files changed, 312916 insertions(+), 3914 deletions(-)\n",
      " create mode 100644 NEW-YORK-DEATHS-METHODOLOGY.md\n",
      " create mode 100644 colleges/README.md\n",
      " create mode 100644 colleges/colleges.csv\n",
      " create mode 100644 mask-use/README.md\n",
      " create mode 100644 mask-use/mask-use-by-county.csv\n"
     ]
    },
    {
     "data": {
      "application/javascript": [
       "\n",
       "            setTimeout(function() {\n",
       "                var nbb_cell_id = 3;\n",
       "                var nbb_unformatted_code = \"!git pull\";\n",
       "                var nbb_formatted_code = \"!git pull\";\n",
       "                var nbb_cells = Jupyter.notebook.get_cells();\n",
       "                for (var i = 0; i < nbb_cells.length; ++i) {\n",
       "                    if (nbb_cells[i].input_prompt_number == nbb_cell_id) {\n",
       "                        if (nbb_cells[i].get_text() == nbb_unformatted_code) {\n",
       "                             nbb_cells[i].set_text(nbb_formatted_code);\n",
       "                        }\n",
       "                        break;\n",
       "                    }\n",
       "                }\n",
       "            }, 500);\n",
       "            "
      ],
      "text/plain": [
       "<IPython.core.display.Javascript object>"
      ]
     },
     "metadata": {},
     "output_type": "display_data"
    }
   ],
   "source": [
    "!git pull"
   ]
  },
  {
   "cell_type": "code",
   "execution_count": 4,
   "metadata": {
    "ExecuteTime": {
     "end_time": "2020-10-09T21:09:42.000958Z",
     "start_time": "2020-10-09T21:09:41.985839Z"
    }
   },
   "outputs": [
    {
     "data": {
      "application/javascript": [
       "\n",
       "            setTimeout(function() {\n",
       "                var nbb_cell_id = 4;\n",
       "                var nbb_unformatted_code = \"os.chdir(\\\"/Users/lacar/Documents/Data_science/Jupyter_notebooks/covid_2020/\\\")\";\n",
       "                var nbb_formatted_code = \"os.chdir(\\\"/Users/lacar/Documents/Data_science/Jupyter_notebooks/covid_2020/\\\")\";\n",
       "                var nbb_cells = Jupyter.notebook.get_cells();\n",
       "                for (var i = 0; i < nbb_cells.length; ++i) {\n",
       "                    if (nbb_cells[i].input_prompt_number == nbb_cell_id) {\n",
       "                        if (nbb_cells[i].get_text() == nbb_unformatted_code) {\n",
       "                             nbb_cells[i].set_text(nbb_formatted_code);\n",
       "                        }\n",
       "                        break;\n",
       "                    }\n",
       "                }\n",
       "            }, 500);\n",
       "            "
      ],
      "text/plain": [
       "<IPython.core.display.Javascript object>"
      ]
     },
     "metadata": {},
     "output_type": "display_data"
    }
   ],
   "source": [
    "os.chdir(\"/Users/lacar/Documents/Data_science/Jupyter_notebooks/covid_2020/\")"
   ]
  },
  {
   "cell_type": "code",
   "execution_count": 5,
   "metadata": {
    "ExecuteTime": {
     "end_time": "2020-10-09T21:09:42.856885Z",
     "start_time": "2020-10-09T21:09:42.005289Z"
    }
   },
   "outputs": [
    {
     "data": {
      "application/javascript": [
       "\n",
       "            setTimeout(function() {\n",
       "                var nbb_cell_id = 5;\n",
       "                var nbb_unformatted_code = \"df_covid = pd.read_csv(\\\"covid-19-data/us-counties.csv\\\")\\ndf_covid[\\\"county_state\\\"] = df_covid[\\\"county\\\"] + \\\" County, \\\" + df_covid[\\\"state\\\"]\";\n",
       "                var nbb_formatted_code = \"df_covid = pd.read_csv(\\\"covid-19-data/us-counties.csv\\\")\\ndf_covid[\\\"county_state\\\"] = df_covid[\\\"county\\\"] + \\\" County, \\\" + df_covid[\\\"state\\\"]\";\n",
       "                var nbb_cells = Jupyter.notebook.get_cells();\n",
       "                for (var i = 0; i < nbb_cells.length; ++i) {\n",
       "                    if (nbb_cells[i].input_prompt_number == nbb_cell_id) {\n",
       "                        if (nbb_cells[i].get_text() == nbb_unformatted_code) {\n",
       "                             nbb_cells[i].set_text(nbb_formatted_code);\n",
       "                        }\n",
       "                        break;\n",
       "                    }\n",
       "                }\n",
       "            }, 500);\n",
       "            "
      ],
      "text/plain": [
       "<IPython.core.display.Javascript object>"
      ]
     },
     "metadata": {},
     "output_type": "display_data"
    }
   ],
   "source": [
    "df_covid = pd.read_csv(\"covid-19-data/us-counties.csv\")\n",
    "df_covid[\"county_state\"] = df_covid[\"county\"] + \" County, \" + df_covid[\"state\"]"
   ]
  },
  {
   "cell_type": "code",
   "execution_count": 6,
   "metadata": {
    "ExecuteTime": {
     "end_time": "2020-10-09T21:09:42.891947Z",
     "start_time": "2020-10-09T21:09:42.859644Z"
    }
   },
   "outputs": [
    {
     "data": {
      "text/html": [
       "<div>\n",
       "<style scoped>\n",
       "    .dataframe tbody tr th:only-of-type {\n",
       "        vertical-align: middle;\n",
       "    }\n",
       "\n",
       "    .dataframe tbody tr th {\n",
       "        vertical-align: top;\n",
       "    }\n",
       "\n",
       "    .dataframe thead th {\n",
       "        text-align: right;\n",
       "    }\n",
       "</style>\n",
       "<table border=\"1\" class=\"dataframe\">\n",
       "  <thead>\n",
       "    <tr style=\"text-align: right;\">\n",
       "      <th></th>\n",
       "      <th>date</th>\n",
       "      <th>county</th>\n",
       "      <th>state</th>\n",
       "      <th>fips</th>\n",
       "      <th>cases</th>\n",
       "      <th>deaths</th>\n",
       "      <th>county_state</th>\n",
       "    </tr>\n",
       "  </thead>\n",
       "  <tbody>\n",
       "    <tr>\n",
       "      <th>0</th>\n",
       "      <td>2020-01-21</td>\n",
       "      <td>Snohomish</td>\n",
       "      <td>Washington</td>\n",
       "      <td>53061.0</td>\n",
       "      <td>1</td>\n",
       "      <td>0</td>\n",
       "      <td>Snohomish County, Washington</td>\n",
       "    </tr>\n",
       "    <tr>\n",
       "      <th>1</th>\n",
       "      <td>2020-01-22</td>\n",
       "      <td>Snohomish</td>\n",
       "      <td>Washington</td>\n",
       "      <td>53061.0</td>\n",
       "      <td>1</td>\n",
       "      <td>0</td>\n",
       "      <td>Snohomish County, Washington</td>\n",
       "    </tr>\n",
       "    <tr>\n",
       "      <th>2</th>\n",
       "      <td>2020-01-23</td>\n",
       "      <td>Snohomish</td>\n",
       "      <td>Washington</td>\n",
       "      <td>53061.0</td>\n",
       "      <td>1</td>\n",
       "      <td>0</td>\n",
       "      <td>Snohomish County, Washington</td>\n",
       "    </tr>\n",
       "    <tr>\n",
       "      <th>3</th>\n",
       "      <td>2020-01-24</td>\n",
       "      <td>Cook</td>\n",
       "      <td>Illinois</td>\n",
       "      <td>17031.0</td>\n",
       "      <td>1</td>\n",
       "      <td>0</td>\n",
       "      <td>Cook County, Illinois</td>\n",
       "    </tr>\n",
       "    <tr>\n",
       "      <th>4</th>\n",
       "      <td>2020-01-24</td>\n",
       "      <td>Snohomish</td>\n",
       "      <td>Washington</td>\n",
       "      <td>53061.0</td>\n",
       "      <td>1</td>\n",
       "      <td>0</td>\n",
       "      <td>Snohomish County, Washington</td>\n",
       "    </tr>\n",
       "  </tbody>\n",
       "</table>\n",
       "</div>"
      ],
      "text/plain": [
       "         date     county       state     fips  cases  deaths  \\\n",
       "0  2020-01-21  Snohomish  Washington  53061.0      1       0   \n",
       "1  2020-01-22  Snohomish  Washington  53061.0      1       0   \n",
       "2  2020-01-23  Snohomish  Washington  53061.0      1       0   \n",
       "3  2020-01-24       Cook    Illinois  17031.0      1       0   \n",
       "4  2020-01-24  Snohomish  Washington  53061.0      1       0   \n",
       "\n",
       "                   county_state  \n",
       "0  Snohomish County, Washington  \n",
       "1  Snohomish County, Washington  \n",
       "2  Snohomish County, Washington  \n",
       "3         Cook County, Illinois  \n",
       "4  Snohomish County, Washington  "
      ]
     },
     "execution_count": 6,
     "metadata": {},
     "output_type": "execute_result"
    },
    {
     "data": {
      "application/javascript": [
       "\n",
       "            setTimeout(function() {\n",
       "                var nbb_cell_id = 6;\n",
       "                var nbb_unformatted_code = \"df_covid.head()\";\n",
       "                var nbb_formatted_code = \"df_covid.head()\";\n",
       "                var nbb_cells = Jupyter.notebook.get_cells();\n",
       "                for (var i = 0; i < nbb_cells.length; ++i) {\n",
       "                    if (nbb_cells[i].input_prompt_number == nbb_cell_id) {\n",
       "                        if (nbb_cells[i].get_text() == nbb_unformatted_code) {\n",
       "                             nbb_cells[i].set_text(nbb_formatted_code);\n",
       "                        }\n",
       "                        break;\n",
       "                    }\n",
       "                }\n",
       "            }, 500);\n",
       "            "
      ],
      "text/plain": [
       "<IPython.core.display.Javascript object>"
      ]
     },
     "metadata": {},
     "output_type": "display_data"
    }
   ],
   "source": [
    "df_covid.head()"
   ]
  },
  {
   "cell_type": "markdown",
   "metadata": {
    "ExecuteTime": {
     "end_time": "2020-03-31T05:05:21.508840Z",
     "start_time": "2020-03-31T05:05:21.503695Z"
    }
   },
   "source": [
    "# Reorganize tables"
   ]
  },
  {
   "cell_type": "code",
   "execution_count": 7,
   "metadata": {
    "ExecuteTime": {
     "end_time": "2020-10-09T21:09:42.945069Z",
     "start_time": "2020-10-09T21:09:42.894933Z"
    },
    "code_folding": []
   },
   "outputs": [
    {
     "data": {
      "application/javascript": [
       "\n",
       "            setTimeout(function() {\n",
       "                var nbb_cell_id = 7;\n",
       "                var nbb_unformatted_code = \"def filter_data(states_list, county_list):\\n    df_covid_states = df_covid[df_covid[\\\"state\\\"].isin(states_list)].copy()\\n    df_covid_states_county = df_covid_states[\\n        df_covid_states[\\\"county_state\\\"].isin(county_list)\\n    ].copy()\\n    df_covid_states_county.sort_values(by=[\\\"county_state\\\", \\\"date\\\"], inplace=True)\\n    df_covid_states_county.reset_index(inplace=True, drop=True)\\n\\n    # Add new cases, deaths - do manually\\n    for i in df_covid_states_county.index:\\n        try:\\n            county_row = df_covid_states_county.loc[i, \\\"county_state\\\"]\\n            county_rowahead = df_covid_states_county.loc[i + 1, \\\"county_state\\\"]\\n            cases_row = df_covid_states_county.loc[i, \\\"cases\\\"]\\n            cases_rowahead = df_covid_states_county.loc[i + 1, \\\"cases\\\"]\\n            deaths_row = df_covid_states_county.loc[i, \\\"deaths\\\"]\\n            deaths_rowahead = df_covid_states_county.loc[i + 1, \\\"deaths\\\"]\\n\\n            if county_rowahead == county_row:\\n                df_covid_states_county.loc[i + 1, \\\"new_cases\\\"] = (\\n                    cases_rowahead - cases_row\\n                )\\n                df_covid_states_county.loc[i + 1, \\\"new_deaths\\\"] = (\\n                    deaths_rowahead - deaths_row\\n                )\\n        except:\\n            continue\\n\\n    return df_covid_states_county\";\n",
       "                var nbb_formatted_code = \"def filter_data(states_list, county_list):\\n    df_covid_states = df_covid[df_covid[\\\"state\\\"].isin(states_list)].copy()\\n    df_covid_states_county = df_covid_states[\\n        df_covid_states[\\\"county_state\\\"].isin(county_list)\\n    ].copy()\\n    df_covid_states_county.sort_values(by=[\\\"county_state\\\", \\\"date\\\"], inplace=True)\\n    df_covid_states_county.reset_index(inplace=True, drop=True)\\n\\n    # Add new cases, deaths - do manually\\n    for i in df_covid_states_county.index:\\n        try:\\n            county_row = df_covid_states_county.loc[i, \\\"county_state\\\"]\\n            county_rowahead = df_covid_states_county.loc[i + 1, \\\"county_state\\\"]\\n            cases_row = df_covid_states_county.loc[i, \\\"cases\\\"]\\n            cases_rowahead = df_covid_states_county.loc[i + 1, \\\"cases\\\"]\\n            deaths_row = df_covid_states_county.loc[i, \\\"deaths\\\"]\\n            deaths_rowahead = df_covid_states_county.loc[i + 1, \\\"deaths\\\"]\\n\\n            if county_rowahead == county_row:\\n                df_covid_states_county.loc[i + 1, \\\"new_cases\\\"] = (\\n                    cases_rowahead - cases_row\\n                )\\n                df_covid_states_county.loc[i + 1, \\\"new_deaths\\\"] = (\\n                    deaths_rowahead - deaths_row\\n                )\\n        except:\\n            continue\\n\\n    return df_covid_states_county\";\n",
       "                var nbb_cells = Jupyter.notebook.get_cells();\n",
       "                for (var i = 0; i < nbb_cells.length; ++i) {\n",
       "                    if (nbb_cells[i].input_prompt_number == nbb_cell_id) {\n",
       "                        if (nbb_cells[i].get_text() == nbb_unformatted_code) {\n",
       "                             nbb_cells[i].set_text(nbb_formatted_code);\n",
       "                        }\n",
       "                        break;\n",
       "                    }\n",
       "                }\n",
       "            }, 500);\n",
       "            "
      ],
      "text/plain": [
       "<IPython.core.display.Javascript object>"
      ]
     },
     "metadata": {},
     "output_type": "display_data"
    }
   ],
   "source": [
    "def filter_data(states_list, county_list):\n",
    "    df_covid_states = df_covid[df_covid[\"state\"].isin(states_list)].copy()\n",
    "    df_covid_states_county = df_covid_states[\n",
    "        df_covid_states[\"county_state\"].isin(county_list)\n",
    "    ].copy()\n",
    "    df_covid_states_county.sort_values(by=[\"county_state\", \"date\"], inplace=True)\n",
    "    df_covid_states_county.reset_index(inplace=True, drop=True)\n",
    "\n",
    "    # Add new cases, deaths - do manually\n",
    "    for i in df_covid_states_county.index:\n",
    "        try:\n",
    "            county_row = df_covid_states_county.loc[i, \"county_state\"]\n",
    "            county_rowahead = df_covid_states_county.loc[i + 1, \"county_state\"]\n",
    "            cases_row = df_covid_states_county.loc[i, \"cases\"]\n",
    "            cases_rowahead = df_covid_states_county.loc[i + 1, \"cases\"]\n",
    "            deaths_row = df_covid_states_county.loc[i, \"deaths\"]\n",
    "            deaths_rowahead = df_covid_states_county.loc[i + 1, \"deaths\"]\n",
    "\n",
    "            if county_rowahead == county_row:\n",
    "                df_covid_states_county.loc[i + 1, \"new_cases\"] = (\n",
    "                    cases_rowahead - cases_row\n",
    "                )\n",
    "                df_covid_states_county.loc[i + 1, \"new_deaths\"] = (\n",
    "                    deaths_rowahead - deaths_row\n",
    "                )\n",
    "        except:\n",
    "            continue\n",
    "\n",
    "    return df_covid_states_county"
   ]
  },
  {
   "cell_type": "code",
   "execution_count": 8,
   "metadata": {
    "ExecuteTime": {
     "end_time": "2020-10-09T21:09:42.971757Z",
     "start_time": "2020-10-09T21:09:42.949960Z"
    }
   },
   "outputs": [
    {
     "data": {
      "application/javascript": [
       "\n",
       "            setTimeout(function() {\n",
       "                var nbb_cell_id = 8;\n",
       "                var nbb_unformatted_code = \"def reorg_table_by_category(df_county_state_lim, category):\\n    # Re-org table\\n    df_covid_states_county_by_date_county_category = (\\n        df_county_state_lim.groupby([\\\"date\\\", \\\"county_state\\\"]).sum()[category].unstack()\\n    )\\n    df_covid_states_county_by_date_county_category.dropna(how=\\\"all\\\", inplace=True)\\n    df_covid_states_county_by_date_county_category.reset_index(inplace=True)\\n    return df_covid_states_county_by_date_county_category\";\n",
       "                var nbb_formatted_code = \"def reorg_table_by_category(df_county_state_lim, category):\\n    # Re-org table\\n    df_covid_states_county_by_date_county_category = (\\n        df_county_state_lim.groupby([\\\"date\\\", \\\"county_state\\\"]).sum()[category].unstack()\\n    )\\n    df_covid_states_county_by_date_county_category.dropna(how=\\\"all\\\", inplace=True)\\n    df_covid_states_county_by_date_county_category.reset_index(inplace=True)\\n    return df_covid_states_county_by_date_county_category\";\n",
       "                var nbb_cells = Jupyter.notebook.get_cells();\n",
       "                for (var i = 0; i < nbb_cells.length; ++i) {\n",
       "                    if (nbb_cells[i].input_prompt_number == nbb_cell_id) {\n",
       "                        if (nbb_cells[i].get_text() == nbb_unformatted_code) {\n",
       "                             nbb_cells[i].set_text(nbb_formatted_code);\n",
       "                        }\n",
       "                        break;\n",
       "                    }\n",
       "                }\n",
       "            }, 500);\n",
       "            "
      ],
      "text/plain": [
       "<IPython.core.display.Javascript object>"
      ]
     },
     "metadata": {},
     "output_type": "display_data"
    }
   ],
   "source": [
    "def reorg_table_by_category(df_county_state_lim, category):\n",
    "    # Re-org table\n",
    "    df_covid_states_county_by_date_county_category = (\n",
    "        df_county_state_lim.groupby([\"date\", \"county_state\"]).sum()[category].unstack()\n",
    "    )\n",
    "    df_covid_states_county_by_date_county_category.dropna(how=\"all\", inplace=True)\n",
    "    df_covid_states_county_by_date_county_category.reset_index(inplace=True)\n",
    "    return df_covid_states_county_by_date_county_category"
   ]
  },
  {
   "cell_type": "markdown",
   "metadata": {},
   "source": [
    "# Visualize"
   ]
  },
  {
   "cell_type": "code",
   "execution_count": 9,
   "metadata": {
    "ExecuteTime": {
     "end_time": "2020-10-09T21:09:43.010439Z",
     "start_time": "2020-10-09T21:09:42.977688Z"
    }
   },
   "outputs": [
    {
     "data": {
      "application/javascript": [
       "\n",
       "            setTimeout(function() {\n",
       "                var nbb_cell_id = 9;\n",
       "                var nbb_unformatted_code = \"def plot_by_category(\\n    df_county_state_lim, df_category, category, title, starting_ind, ax\\n):\\n\\n    for county in df_county_state_lim[\\\"county_state\\\"].unique().tolist():\\n        ax.plot(df_category[\\\"date\\\"], df_category[county], label=county)\\n\\n    # Make labels easier to read by only showing every other\\n    date_list = df_category[\\\"date\\\"].tolist()\\n    labels = [v if i % 2 == 0 else \\\" \\\" for i, v in enumerate(date_list)]\\n    # labels = df_category[\\\"date\\\"]\\n    ax.set_xticklabels(labels, rotation=90, fontsize=14)\\n    ax.set_xlim(starting_ind, len(df_category))\\n    ax.legend(fontsize=12)\\n    ax.set_ylabel(category, fontsize=18)\\n    ax.set_title(title, fontsize=18)\\n    # plt.tight_layout()\\n\\n    return county, df_category[\\\"date\\\"], df_category[county]\";\n",
       "                var nbb_formatted_code = \"def plot_by_category(\\n    df_county_state_lim, df_category, category, title, starting_ind, ax\\n):\\n\\n    for county in df_county_state_lim[\\\"county_state\\\"].unique().tolist():\\n        ax.plot(df_category[\\\"date\\\"], df_category[county], label=county)\\n\\n    # Make labels easier to read by only showing every other\\n    date_list = df_category[\\\"date\\\"].tolist()\\n    labels = [v if i % 2 == 0 else \\\" \\\" for i, v in enumerate(date_list)]\\n    # labels = df_category[\\\"date\\\"]\\n    ax.set_xticklabels(labels, rotation=90, fontsize=14)\\n    ax.set_xlim(starting_ind, len(df_category))\\n    ax.legend(fontsize=12)\\n    ax.set_ylabel(category, fontsize=18)\\n    ax.set_title(title, fontsize=18)\\n    # plt.tight_layout()\\n\\n    return county, df_category[\\\"date\\\"], df_category[county]\";\n",
       "                var nbb_cells = Jupyter.notebook.get_cells();\n",
       "                for (var i = 0; i < nbb_cells.length; ++i) {\n",
       "                    if (nbb_cells[i].input_prompt_number == nbb_cell_id) {\n",
       "                        if (nbb_cells[i].get_text() == nbb_unformatted_code) {\n",
       "                             nbb_cells[i].set_text(nbb_formatted_code);\n",
       "                        }\n",
       "                        break;\n",
       "                    }\n",
       "                }\n",
       "            }, 500);\n",
       "            "
      ],
      "text/plain": [
       "<IPython.core.display.Javascript object>"
      ]
     },
     "metadata": {},
     "output_type": "display_data"
    }
   ],
   "source": [
    "def plot_by_category(\n",
    "    df_county_state_lim, df_category, category, title, starting_ind, ax\n",
    "):\n",
    "\n",
    "    for county in df_county_state_lim[\"county_state\"].unique().tolist():\n",
    "        ax.plot(df_category[\"date\"], df_category[county], label=county)\n",
    "\n",
    "    # Make labels easier to read by only showing every other\n",
    "    date_list = df_category[\"date\"].tolist()\n",
    "    labels = [v if i % 2 == 0 else \" \" for i, v in enumerate(date_list)]\n",
    "    # labels = df_category[\"date\"]\n",
    "    ax.set_xticklabels(labels, rotation=90, fontsize=14)\n",
    "    ax.set_xlim(starting_ind, len(df_category))\n",
    "    ax.legend(fontsize=12)\n",
    "    ax.set_ylabel(category, fontsize=18)\n",
    "    ax.set_title(title, fontsize=18)\n",
    "    # plt.tight_layout()\n",
    "\n",
    "    return county, df_category[\"date\"], df_category[county]"
   ]
  },
  {
   "cell_type": "code",
   "execution_count": 10,
   "metadata": {
    "ExecuteTime": {
     "end_time": "2020-10-09T21:09:43.057955Z",
     "start_time": "2020-10-09T21:09:43.013757Z"
    },
    "code_folding": []
   },
   "outputs": [
    {
     "data": {
      "application/javascript": [
       "\n",
       "            setTimeout(function() {\n",
       "                var nbb_cell_id = 10;\n",
       "                var nbb_unformatted_code = \"def plot_all_categories_for_county(states_list, county_list, starting_date):    \\n    # Get filtered data\\n    filt_data = filter_data(states, counties)\\n        \\n    # Re-org table\\n    df_covid_sc_bydate_county_cases = reorg_table_by_category(\\n        filt_data, \\\"cases\\\"\\n    )\\n    df_covid_sc_bydate_county_newcases = reorg_table_by_category(\\n        filt_data, \\\"new_cases\\\"\\n    )\\n    df_covid_sc_bydate_county_deaths = reorg_table_by_category(\\n        filt_data, \\\"deaths\\\"\\n    )\\n    df_covid_sc_bydate_county_newdeaths = reorg_table_by_category(\\n        filt_data, \\\"new_deaths\\\"\\n    )\\n\\n    df_category_list = [df_covid_sc_bydate_county_cases, df_covid_sc_bydate_county_newcases, df_covid_sc_bydate_county_deaths, df_covid_sc_bydate_county_newdeaths]\\n    category_list = ['cases', 'new_cases', 'deaths', 'new_deaths']\\n    category_title_list = ['cases (cumulative)', 'new_cases', 'deaths (cumulative)', 'new_deaths']\\n    \\n    index_starting_date = df_covid_sc_bydate_county_cases[df_covid_sc_bydate_county_cases[\\\"date\\\"] == starting_date].index.tolist()[0]\\n    \\n    fig, ax = plt.subplots(4, 1, figsize=(12, 16))\\n      \\n    for i, category_df in enumerate(df_category_list):\\n        plot_by_category(\\n            filt_data,\\n            category_df,\\n            category_list[i],\\n            category_title_list[i],\\n            index_starting_date,\\n            ax[i],\\n        )\\n    plt.tight_layout()\";\n",
       "                var nbb_formatted_code = \"def plot_all_categories_for_county(states_list, county_list, starting_date):\\n    # Get filtered data\\n    filt_data = filter_data(states, counties)\\n\\n    # Re-org table\\n    df_covid_sc_bydate_county_cases = reorg_table_by_category(filt_data, \\\"cases\\\")\\n    df_covid_sc_bydate_county_newcases = reorg_table_by_category(filt_data, \\\"new_cases\\\")\\n    df_covid_sc_bydate_county_deaths = reorg_table_by_category(filt_data, \\\"deaths\\\")\\n    df_covid_sc_bydate_county_newdeaths = reorg_table_by_category(\\n        filt_data, \\\"new_deaths\\\"\\n    )\\n\\n    df_category_list = [\\n        df_covid_sc_bydate_county_cases,\\n        df_covid_sc_bydate_county_newcases,\\n        df_covid_sc_bydate_county_deaths,\\n        df_covid_sc_bydate_county_newdeaths,\\n    ]\\n    category_list = [\\\"cases\\\", \\\"new_cases\\\", \\\"deaths\\\", \\\"new_deaths\\\"]\\n    category_title_list = [\\n        \\\"cases (cumulative)\\\",\\n        \\\"new_cases\\\",\\n        \\\"deaths (cumulative)\\\",\\n        \\\"new_deaths\\\",\\n    ]\\n\\n    index_starting_date = df_covid_sc_bydate_county_cases[\\n        df_covid_sc_bydate_county_cases[\\\"date\\\"] == starting_date\\n    ].index.tolist()[0]\\n\\n    fig, ax = plt.subplots(4, 1, figsize=(12, 16))\\n\\n    for i, category_df in enumerate(df_category_list):\\n        plot_by_category(\\n            filt_data,\\n            category_df,\\n            category_list[i],\\n            category_title_list[i],\\n            index_starting_date,\\n            ax[i],\\n        )\\n    plt.tight_layout()\";\n",
       "                var nbb_cells = Jupyter.notebook.get_cells();\n",
       "                for (var i = 0; i < nbb_cells.length; ++i) {\n",
       "                    if (nbb_cells[i].input_prompt_number == nbb_cell_id) {\n",
       "                        if (nbb_cells[i].get_text() == nbb_unformatted_code) {\n",
       "                             nbb_cells[i].set_text(nbb_formatted_code);\n",
       "                        }\n",
       "                        break;\n",
       "                    }\n",
       "                }\n",
       "            }, 500);\n",
       "            "
      ],
      "text/plain": [
       "<IPython.core.display.Javascript object>"
      ]
     },
     "metadata": {},
     "output_type": "display_data"
    }
   ],
   "source": [
    "def plot_all_categories_for_county(states_list, county_list, starting_date):    \n",
    "    # Get filtered data\n",
    "    filt_data = filter_data(states, counties)\n",
    "        \n",
    "    # Re-org table\n",
    "    df_covid_sc_bydate_county_cases = reorg_table_by_category(\n",
    "        filt_data, \"cases\"\n",
    "    )\n",
    "    df_covid_sc_bydate_county_newcases = reorg_table_by_category(\n",
    "        filt_data, \"new_cases\"\n",
    "    )\n",
    "    df_covid_sc_bydate_county_deaths = reorg_table_by_category(\n",
    "        filt_data, \"deaths\"\n",
    "    )\n",
    "    df_covid_sc_bydate_county_newdeaths = reorg_table_by_category(\n",
    "        filt_data, \"new_deaths\"\n",
    "    )\n",
    "\n",
    "    df_category_list = [df_covid_sc_bydate_county_cases, df_covid_sc_bydate_county_newcases, df_covid_sc_bydate_county_deaths, df_covid_sc_bydate_county_newdeaths]\n",
    "    category_list = ['cases', 'new_cases', 'deaths', 'new_deaths']\n",
    "    category_title_list = ['cases (cumulative)', 'new_cases', 'deaths (cumulative)', 'new_deaths']\n",
    "    \n",
    "    index_starting_date = df_covid_sc_bydate_county_cases[df_covid_sc_bydate_county_cases[\"date\"] == starting_date].index.tolist()[0]\n",
    "    \n",
    "    fig, ax = plt.subplots(4, 1, figsize=(12, 16))\n",
    "      \n",
    "    for i, category_df in enumerate(df_category_list):\n",
    "        plot_by_category(\n",
    "            filt_data,\n",
    "            category_df,\n",
    "            category_list[i],\n",
    "            category_title_list[i],\n",
    "            index_starting_date,\n",
    "            ax[i],\n",
    "        )\n",
    "    plt.tight_layout()\n"
   ]
  },
  {
   "cell_type": "markdown",
   "metadata": {},
   "source": [
    "# Inputs with different locations"
   ]
  },
  {
   "cell_type": "markdown",
   "metadata": {},
   "source": [
    "## Local"
   ]
  },
  {
   "cell_type": "code",
   "execution_count": null,
   "metadata": {
    "ExecuteTime": {
     "start_time": "2020-10-09T21:10:39.858Z"
    }
   },
   "outputs": [],
   "source": [
    "states = [\"California\"]\n",
    "counties = [\n",
    "    \"San Francisco County, California\",\n",
    "    \"San Mateo County, California\",\n",
    "    \"Santa Clara County, California\",\n",
    "    \"Alameda County, California\",\n",
    "    \"Marin County, California\",\n",
    "]\n",
    "plot_all_categories_for_county(states, counties, \"2020-06-01\")"
   ]
  },
  {
   "cell_type": "markdown",
   "metadata": {},
   "source": [
    "## Some CA, AZ counties"
   ]
  },
  {
   "cell_type": "code",
   "execution_count": null,
   "metadata": {
    "ExecuteTime": {
     "start_time": "2020-10-09T21:10:39.863Z"
    }
   },
   "outputs": [],
   "source": [
    "states = [\"California\", \"Arizona\"]\n",
    "counties = [\n",
    "    \"San Bernardino County, California\",\n",
    "    \"San Diego County, California\",\n",
    "    \"San Mateo County, California\",\n",
    "    \"Los Angeles County, California\",\n",
    "    \"Maricopa County, Arizona\",\n",
    "]\n",
    "plot_all_categories_for_county(states, counties, \"2020-06-01\")"
   ]
  },
  {
   "cell_type": "markdown",
   "metadata": {},
   "source": [
    "## CA and some East Coast"
   ]
  },
  {
   "cell_type": "code",
   "execution_count": null,
   "metadata": {
    "ExecuteTime": {
     "start_time": "2020-10-09T21:10:39.871Z"
    }
   },
   "outputs": [],
   "source": [
    "states = [\"Pennsylvania\", \"Connecticut\", \"California\", \"Massachusetts\"]\n",
    "counties = [\n",
    "    \"Suffolk County, Massachusetts\",\n",
    "    \"New Haven County, Connecticut\",\n",
    "    \"Lehigh County, Pennsylvania\",\n",
    "    \"San Francisco County, California\",\n",
    "    \"San Mateo County, California\",\n",
    "]\n",
    "plot_all_categories_for_county(states, counties, \"2020-06-01\")"
   ]
  },
  {
   "cell_type": "markdown",
   "metadata": {},
   "source": [
    "## New York only"
   ]
  },
  {
   "cell_type": "code",
   "execution_count": null,
   "metadata": {
    "ExecuteTime": {
     "start_time": "2020-10-09T21:10:39.877Z"
    }
   },
   "outputs": [],
   "source": [
    "states = [\"New York\"]\n",
    "counties = [\n",
    "    \"New York City County, New York\",\n",
    "]\n",
    "plot_all_categories_for_county(states, counties, \"2020-06-01\")"
   ]
  },
  {
   "cell_type": "markdown",
   "metadata": {
    "ExecuteTime": {
     "end_time": "2020-03-31T16:10:36.433683Z",
     "start_time": "2020-03-31T16:10:36.428418Z"
    }
   },
   "source": [
    "## CA, CO, PA, Southeast"
   ]
  },
  {
   "cell_type": "code",
   "execution_count": null,
   "metadata": {
    "ExecuteTime": {
     "start_time": "2020-10-09T21:10:39.882Z"
    }
   },
   "outputs": [],
   "source": [
    "states = [\"Colorado\", \"California\", \"Pennsylvania\", \"Georgia\", \"Florida\"]\n",
    "counties = [\n",
    "    \"Arapahoe County, Colorado\",\n",
    "    \"Chatham County, Georgia\",\n",
    "    \"Montgomery County, Pennsylvania\",\n",
    "    \"Leon Countydd, Florida\",\n",
    "    \"Bay County, Florida\",\n",
    "    \"San Mateo County, California\",\n",
    "]\n",
    "plot_all_categories_for_county(states, counties, \"2020-06-01\")"
   ]
  },
  {
   "cell_type": "markdown",
   "metadata": {},
   "source": [
    "## CA, WA, Las Vegas"
   ]
  },
  {
   "cell_type": "code",
   "execution_count": null,
   "metadata": {
    "ExecuteTime": {
     "start_time": "2020-10-09T21:10:39.888Z"
    }
   },
   "outputs": [],
   "source": [
    "states = [\"Nevada\", \"California\", \"Washington\"]\n",
    "counties = [\n",
    "    \"Clark County, Nevada\",\n",
    "    \"King County, Washington\",\n",
    "    \"Los Angeles County, California\",\n",
    "    \"San Francisco County, California\",\n",
    "    \"San Mateo County, California\",\n",
    "    \"Alameda County, California\",\n",
    "    \"San Diego County, California\",\n",
    "]\n",
    "plot_all_categories_for_county(states, counties, \"2020-06-01\")"
   ]
  },
  {
   "cell_type": "code",
   "execution_count": null,
   "metadata": {
    "ExecuteTime": {
     "start_time": "2020-10-09T21:10:39.893Z"
    }
   },
   "outputs": [],
   "source": [
    "states = [\"California\"]\n",
    "counties = [\n",
    "    \"Imperial County, California\",\n",
    "    \"Los Angeles County, California\",\n",
    "    \"San Francisco County, California\",\n",
    "    \"San Mateo County, California\",\n",
    "    \"Alameda County, California\",\n",
    "    \"San Diego County, California\",\n",
    "]\n",
    "plot_all_categories_for_county(states, counties, \"2020-06-01\")"
   ]
  },
  {
   "cell_type": "code",
   "execution_count": null,
   "metadata": {},
   "outputs": [],
   "source": []
  },
  {
   "cell_type": "code",
   "execution_count": null,
   "metadata": {
    "ExecuteTime": {
     "start_time": "2020-10-09T21:10:39.899Z"
    }
   },
   "outputs": [],
   "source": [
    "!git commit -a -m \"update\"\n",
    "!git push"
   ]
  },
  {
   "cell_type": "code",
   "execution_count": null,
   "metadata": {},
   "outputs": [],
   "source": []
  }
 ],
 "metadata": {
  "kernelspec": {
   "display_name": "Python 3",
   "language": "python",
   "name": "python3"
  },
  "language_info": {
   "codemirror_mode": {
    "name": "ipython",
    "version": 3
   },
   "file_extension": ".py",
   "mimetype": "text/x-python",
   "name": "python",
   "nbconvert_exporter": "python",
   "pygments_lexer": "ipython3",
   "version": "3.6.9"
  },
  "toc": {
   "base_numbering": 1,
   "nav_menu": {},
   "number_sections": true,
   "sideBar": true,
   "skip_h1_title": false,
   "title_cell": "Table of Contents",
   "title_sidebar": "Contents",
   "toc_cell": false,
   "toc_position": {
    "height": "calc(100% - 180px)",
    "left": "10px",
    "top": "150px",
    "width": "205.8px"
   },
   "toc_section_display": true,
   "toc_window_display": true
  },
  "varInspector": {
   "cols": {
    "lenName": 16,
    "lenType": 16,
    "lenVar": 40
   },
   "kernels_config": {
    "python": {
     "delete_cmd_postfix": "",
     "delete_cmd_prefix": "del ",
     "library": "var_list.py",
     "varRefreshCmd": "print(var_dic_list())"
    },
    "r": {
     "delete_cmd_postfix": ") ",
     "delete_cmd_prefix": "rm(",
     "library": "var_list.r",
     "varRefreshCmd": "cat(var_dic_list()) "
    }
   },
   "types_to_exclude": [
    "module",
    "function",
    "builtin_function_or_method",
    "instance",
    "_Feature"
   ],
   "window_display": false
  }
 },
 "nbformat": 4,
 "nbformat_minor": 4
}
